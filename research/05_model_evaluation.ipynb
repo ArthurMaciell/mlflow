{
 "cells": [
  {
   "cell_type": "code",
   "execution_count": 1,
   "id": "19bab00c",
   "metadata": {},
   "outputs": [],
   "source": [
    "import os"
   ]
  },
  {
   "cell_type": "code",
   "execution_count": 2,
   "id": "6f979aad",
   "metadata": {},
   "outputs": [
    {
     "data": {
      "text/plain": [
       "'c:\\\\Users\\\\Orçamento\\\\ONE DRIVE ORCAMENTO\\\\OneDrive - GRUPO RETEC\\\\02. Engenharia\\\\IA\\\\MLops\\\\mlflow\\\\research'"
      ]
     },
     "execution_count": 2,
     "metadata": {},
     "output_type": "execute_result"
    }
   ],
   "source": [
    "%pwd"
   ]
  },
  {
   "cell_type": "code",
   "execution_count": 3,
   "id": "ae981063",
   "metadata": {},
   "outputs": [],
   "source": [
    "os.chdir(\"../\")"
   ]
  },
  {
   "cell_type": "code",
   "execution_count": 4,
   "id": "d794bbb1",
   "metadata": {},
   "outputs": [
    {
     "data": {
      "text/plain": [
       "'c:\\\\Users\\\\Orçamento\\\\ONE DRIVE ORCAMENTO\\\\OneDrive - GRUPO RETEC\\\\02. Engenharia\\\\IA\\\\MLops\\\\mlflow'"
      ]
     },
     "execution_count": 4,
     "metadata": {},
     "output_type": "execute_result"
    }
   ],
   "source": [
    "%pwd"
   ]
  },
  {
   "cell_type": "code",
   "execution_count": 9,
   "id": "334f5742",
   "metadata": {},
   "outputs": [],
   "source": [
    "import mlflow\n",
    "import os\n",
    "\n",
    "os.environ[\"MLFLOW_TRACKING_USERNAME\"] = \"ArthurMaciell\"\n",
    "os.environ[\"MLFLOW_TRACKING_PASSWORD\"] = \"130b789cd7760d180d01b126bd5edce3ca2bca0d\"\n",
    "\n",
    "mlflow.set_tracking_uri(\"https://dagshub.com/ArthurMaciell/mlflow.mlflow\")\n"
   ]
  }
 ],
 "metadata": {
  "kernelspec": {
   "display_name": ".mlflow312",
   "language": "python",
   "name": "python3"
  },
  "language_info": {
   "codemirror_mode": {
    "name": "ipython",
    "version": 3
   },
   "file_extension": ".py",
   "mimetype": "text/x-python",
   "name": "python",
   "nbconvert_exporter": "python",
   "pygments_lexer": "ipython3",
   "version": "3.12.9"
  }
 },
 "nbformat": 4,
 "nbformat_minor": 5
}
